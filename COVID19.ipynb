{
 "cells": [
  {
   "cell_type": "code",
   "execution_count": 1,
   "id": "ea1f585f",
   "metadata": {},
   "outputs": [],
   "source": [
    "import plotly.express as px\n",
    "import plotly.graph_objects as go\n",
    "import plotly.figure_factory as ff\n",
    "from plotly.subplots import make_subplots\n",
    "\n",
    "import folium\n",
    "import pandas as pd\n",
    "import numpy as np\n",
    "import matplotlib.pyplot as plt\n",
    "\n",
    "get_ipython().run_line_magic('matplotlib', 'inline')\n",
    "\n",
    "import math\n",
    "import random\n",
    "from datetime import timedelta\n",
    "\n",
    "import warnings \n",
    "warnings.filterwarnings('ignore')\n",
    "#color pallette\n",
    "cnf = '#393e46'\n",
    "dth = '#ff2e63'\n",
    "rec = '#21bf73'\n",
    "act = '#fe9801'"
   ]
  },
  {
   "cell_type": "code",
   "execution_count": 2,
   "id": "fc8bd8f6",
   "metadata": {},
   "outputs": [
    {
     "data": {
      "text/html": [
       "        <script type=\"text/javascript\">\n",
       "        window.PlotlyConfig = {MathJaxConfig: 'local'};\n",
       "        if (window.MathJax) {MathJax.Hub.Config({SVG: {font: \"STIX-Web\"}});}\n",
       "        if (typeof require !== 'undefined') {\n",
       "        require.undef(\"plotly\");\n",
       "        requirejs.config({\n",
       "            paths: {\n",
       "                'plotly': ['https://cdn.plot.ly/plotly-latest.min']\n",
       "            }\n",
       "        });\n",
       "        require(['plotly'], function(Plotly) {\n",
       "            window._Plotly = Plotly;\n",
       "        });\n",
       "        }\n",
       "        </script>\n",
       "        "
      ]
     },
     "metadata": {},
     "output_type": "display_data"
    }
   ],
   "source": [
    "import plotly as py\n",
    "py.offline.init_notebook_mode(connected = True)"
   ]
  },
  {
   "cell_type": "code",
   "execution_count": 4,
   "id": "3c0dfa87",
   "metadata": {},
   "outputs": [],
   "source": [
    "import os\n",
    "\n",
    "\n",
    "\n",
    "\n",
    "\n",
    "try:\n",
    "    os.system(\"rm -rf Covid-19-Preprocessed-Dataset\")\n",
    "except:\n",
    "    print(\"File doesnot exsist\")\n",
    "\n",
    "\n",
    "\n"
   ]
  },
  {
   "cell_type": "code",
   "execution_count": 5,
   "id": "fe92694c",
   "metadata": {},
   "outputs": [
    {
     "name": "stderr",
     "output_type": "stream",
     "text": [
      "'git' is not recognized as an internal or external command,\n",
      "operable program or batch file.\n"
     ]
    }
   ],
   "source": [
    "get_ipython().system('git clone https://github.com/laxmimerit/Covid-19-Preprocessed-Dataset.git')"
   ]
  },
  {
   "cell_type": "code",
   "execution_count": 3,
   "id": "ac1d0097",
   "metadata": {},
   "outputs": [
    {
     "ename": "FileNotFoundError",
     "evalue": "[Errno 2] No such file or directory: 'Desktop\\\\Covid-19-Preprocessed-Dataset\\\\preprocessed\\\\covid_19_data_cleaned.csv'",
     "output_type": "error",
     "traceback": [
      "\u001b[1;31m---------------------------------------------------------------------------\u001b[0m",
      "\u001b[1;31mFileNotFoundError\u001b[0m                         Traceback (most recent call last)",
      "\u001b[1;32m<ipython-input-3-aea8685f5aaa>\u001b[0m in \u001b[0;36m<module>\u001b[1;34m\u001b[0m\n\u001b[1;32m----> 1\u001b[1;33m \u001b[0mdf\u001b[0m \u001b[1;33m=\u001b[0m \u001b[0mpd\u001b[0m\u001b[1;33m.\u001b[0m\u001b[0mread_csv\u001b[0m\u001b[1;33m(\u001b[0m\u001b[1;34m'Desktop\\Covid-19-Preprocessed-Dataset\\preprocessed\\covid_19_data_cleaned.csv'\u001b[0m\u001b[1;33m,\u001b[0m \u001b[0mparse_dates\u001b[0m\u001b[1;33m=\u001b[0m\u001b[1;33m[\u001b[0m\u001b[1;34m'Date'\u001b[0m\u001b[1;33m]\u001b[0m\u001b[1;33m)\u001b[0m\u001b[1;33m\u001b[0m\u001b[1;33m\u001b[0m\u001b[0m\n\u001b[0m\u001b[0;32m      2\u001b[0m \u001b[0mcountry_daywise\u001b[0m \u001b[1;33m=\u001b[0m \u001b[0mpd\u001b[0m\u001b[1;33m.\u001b[0m\u001b[0mread_csv\u001b[0m\u001b[1;33m(\u001b[0m\u001b[1;34m'Desktop\\Covid-19-Preprocessed-Dataset\\preprocessed\\country_daywise.csv'\u001b[0m\u001b[1;33m,\u001b[0m \u001b[0mparse_dates\u001b[0m\u001b[1;33m=\u001b[0m\u001b[1;33m[\u001b[0m\u001b[1;34m'Date'\u001b[0m\u001b[1;33m]\u001b[0m\u001b[1;33m)\u001b[0m\u001b[1;33m\u001b[0m\u001b[1;33m\u001b[0m\u001b[0m\n\u001b[0;32m      3\u001b[0m \u001b[0mcountrywise\u001b[0m \u001b[1;33m=\u001b[0m \u001b[0mpd\u001b[0m\u001b[1;33m.\u001b[0m\u001b[0mread_csv\u001b[0m\u001b[1;33m(\u001b[0m\u001b[1;34m'Desktop\\Covid-19-Preprocessed-Dataset\\preprocessed\\countrywise.csv'\u001b[0m\u001b[1;33m)\u001b[0m\u001b[1;33m\u001b[0m\u001b[1;33m\u001b[0m\u001b[0m\n\u001b[0;32m      4\u001b[0m \u001b[0mdaywise\u001b[0m \u001b[1;33m=\u001b[0m \u001b[0mpd\u001b[0m\u001b[1;33m.\u001b[0m\u001b[0mread_csv\u001b[0m\u001b[1;33m(\u001b[0m\u001b[1;34m'Desktop\\Covid-19-Preprocessed-Dataset\\preprocessed\\daywise.csv'\u001b[0m\u001b[1;33m,\u001b[0m \u001b[0mparse_dates\u001b[0m\u001b[1;33m=\u001b[0m\u001b[1;33m[\u001b[0m\u001b[1;34m'Date'\u001b[0m\u001b[1;33m]\u001b[0m\u001b[1;33m)\u001b[0m\u001b[1;33m\u001b[0m\u001b[1;33m\u001b[0m\u001b[0m\n\u001b[0;32m      5\u001b[0m \u001b[1;33m\u001b[0m\u001b[0m\n",
      "\u001b[1;32m~\\anaconda3\\lib\\site-packages\\pandas\\io\\parsers.py\u001b[0m in \u001b[0;36mread_csv\u001b[1;34m(filepath_or_buffer, sep, delimiter, header, names, index_col, usecols, squeeze, prefix, mangle_dupe_cols, dtype, engine, converters, true_values, false_values, skipinitialspace, skiprows, skipfooter, nrows, na_values, keep_default_na, na_filter, verbose, skip_blank_lines, parse_dates, infer_datetime_format, keep_date_col, date_parser, dayfirst, cache_dates, iterator, chunksize, compression, thousands, decimal, lineterminator, quotechar, quoting, doublequote, escapechar, comment, encoding, dialect, error_bad_lines, warn_bad_lines, delim_whitespace, low_memory, memory_map, float_precision, storage_options)\u001b[0m\n\u001b[0;32m    608\u001b[0m     \u001b[0mkwds\u001b[0m\u001b[1;33m.\u001b[0m\u001b[0mupdate\u001b[0m\u001b[1;33m(\u001b[0m\u001b[0mkwds_defaults\u001b[0m\u001b[1;33m)\u001b[0m\u001b[1;33m\u001b[0m\u001b[1;33m\u001b[0m\u001b[0m\n\u001b[0;32m    609\u001b[0m \u001b[1;33m\u001b[0m\u001b[0m\n\u001b[1;32m--> 610\u001b[1;33m     \u001b[1;32mreturn\u001b[0m \u001b[0m_read\u001b[0m\u001b[1;33m(\u001b[0m\u001b[0mfilepath_or_buffer\u001b[0m\u001b[1;33m,\u001b[0m \u001b[0mkwds\u001b[0m\u001b[1;33m)\u001b[0m\u001b[1;33m\u001b[0m\u001b[1;33m\u001b[0m\u001b[0m\n\u001b[0m\u001b[0;32m    611\u001b[0m \u001b[1;33m\u001b[0m\u001b[0m\n\u001b[0;32m    612\u001b[0m \u001b[1;33m\u001b[0m\u001b[0m\n",
      "\u001b[1;32m~\\anaconda3\\lib\\site-packages\\pandas\\io\\parsers.py\u001b[0m in \u001b[0;36m_read\u001b[1;34m(filepath_or_buffer, kwds)\u001b[0m\n\u001b[0;32m    460\u001b[0m \u001b[1;33m\u001b[0m\u001b[0m\n\u001b[0;32m    461\u001b[0m     \u001b[1;31m# Create the parser.\u001b[0m\u001b[1;33m\u001b[0m\u001b[1;33m\u001b[0m\u001b[1;33m\u001b[0m\u001b[0m\n\u001b[1;32m--> 462\u001b[1;33m     \u001b[0mparser\u001b[0m \u001b[1;33m=\u001b[0m \u001b[0mTextFileReader\u001b[0m\u001b[1;33m(\u001b[0m\u001b[0mfilepath_or_buffer\u001b[0m\u001b[1;33m,\u001b[0m \u001b[1;33m**\u001b[0m\u001b[0mkwds\u001b[0m\u001b[1;33m)\u001b[0m\u001b[1;33m\u001b[0m\u001b[1;33m\u001b[0m\u001b[0m\n\u001b[0m\u001b[0;32m    463\u001b[0m \u001b[1;33m\u001b[0m\u001b[0m\n\u001b[0;32m    464\u001b[0m     \u001b[1;32mif\u001b[0m \u001b[0mchunksize\u001b[0m \u001b[1;32mor\u001b[0m \u001b[0miterator\u001b[0m\u001b[1;33m:\u001b[0m\u001b[1;33m\u001b[0m\u001b[1;33m\u001b[0m\u001b[0m\n",
      "\u001b[1;32m~\\anaconda3\\lib\\site-packages\\pandas\\io\\parsers.py\u001b[0m in \u001b[0;36m__init__\u001b[1;34m(self, f, engine, **kwds)\u001b[0m\n\u001b[0;32m    817\u001b[0m             \u001b[0mself\u001b[0m\u001b[1;33m.\u001b[0m\u001b[0moptions\u001b[0m\u001b[1;33m[\u001b[0m\u001b[1;34m\"has_index_names\"\u001b[0m\u001b[1;33m]\u001b[0m \u001b[1;33m=\u001b[0m \u001b[0mkwds\u001b[0m\u001b[1;33m[\u001b[0m\u001b[1;34m\"has_index_names\"\u001b[0m\u001b[1;33m]\u001b[0m\u001b[1;33m\u001b[0m\u001b[1;33m\u001b[0m\u001b[0m\n\u001b[0;32m    818\u001b[0m \u001b[1;33m\u001b[0m\u001b[0m\n\u001b[1;32m--> 819\u001b[1;33m         \u001b[0mself\u001b[0m\u001b[1;33m.\u001b[0m\u001b[0m_engine\u001b[0m \u001b[1;33m=\u001b[0m \u001b[0mself\u001b[0m\u001b[1;33m.\u001b[0m\u001b[0m_make_engine\u001b[0m\u001b[1;33m(\u001b[0m\u001b[0mself\u001b[0m\u001b[1;33m.\u001b[0m\u001b[0mengine\u001b[0m\u001b[1;33m)\u001b[0m\u001b[1;33m\u001b[0m\u001b[1;33m\u001b[0m\u001b[0m\n\u001b[0m\u001b[0;32m    820\u001b[0m \u001b[1;33m\u001b[0m\u001b[0m\n\u001b[0;32m    821\u001b[0m     \u001b[1;32mdef\u001b[0m \u001b[0mclose\u001b[0m\u001b[1;33m(\u001b[0m\u001b[0mself\u001b[0m\u001b[1;33m)\u001b[0m\u001b[1;33m:\u001b[0m\u001b[1;33m\u001b[0m\u001b[1;33m\u001b[0m\u001b[0m\n",
      "\u001b[1;32m~\\anaconda3\\lib\\site-packages\\pandas\\io\\parsers.py\u001b[0m in \u001b[0;36m_make_engine\u001b[1;34m(self, engine)\u001b[0m\n\u001b[0;32m   1048\u001b[0m             )\n\u001b[0;32m   1049\u001b[0m         \u001b[1;31m# error: Too many arguments for \"ParserBase\"\u001b[0m\u001b[1;33m\u001b[0m\u001b[1;33m\u001b[0m\u001b[1;33m\u001b[0m\u001b[0m\n\u001b[1;32m-> 1050\u001b[1;33m         \u001b[1;32mreturn\u001b[0m \u001b[0mmapping\u001b[0m\u001b[1;33m[\u001b[0m\u001b[0mengine\u001b[0m\u001b[1;33m]\u001b[0m\u001b[1;33m(\u001b[0m\u001b[0mself\u001b[0m\u001b[1;33m.\u001b[0m\u001b[0mf\u001b[0m\u001b[1;33m,\u001b[0m \u001b[1;33m**\u001b[0m\u001b[0mself\u001b[0m\u001b[1;33m.\u001b[0m\u001b[0moptions\u001b[0m\u001b[1;33m)\u001b[0m  \u001b[1;31m# type: ignore[call-arg]\u001b[0m\u001b[1;33m\u001b[0m\u001b[1;33m\u001b[0m\u001b[0m\n\u001b[0m\u001b[0;32m   1051\u001b[0m \u001b[1;33m\u001b[0m\u001b[0m\n\u001b[0;32m   1052\u001b[0m     \u001b[1;32mdef\u001b[0m \u001b[0m_failover_to_python\u001b[0m\u001b[1;33m(\u001b[0m\u001b[0mself\u001b[0m\u001b[1;33m)\u001b[0m\u001b[1;33m:\u001b[0m\u001b[1;33m\u001b[0m\u001b[1;33m\u001b[0m\u001b[0m\n",
      "\u001b[1;32m~\\anaconda3\\lib\\site-packages\\pandas\\io\\parsers.py\u001b[0m in \u001b[0;36m__init__\u001b[1;34m(self, src, **kwds)\u001b[0m\n\u001b[0;32m   1865\u001b[0m \u001b[1;33m\u001b[0m\u001b[0m\n\u001b[0;32m   1866\u001b[0m         \u001b[1;31m# open handles\u001b[0m\u001b[1;33m\u001b[0m\u001b[1;33m\u001b[0m\u001b[1;33m\u001b[0m\u001b[0m\n\u001b[1;32m-> 1867\u001b[1;33m         \u001b[0mself\u001b[0m\u001b[1;33m.\u001b[0m\u001b[0m_open_handles\u001b[0m\u001b[1;33m(\u001b[0m\u001b[0msrc\u001b[0m\u001b[1;33m,\u001b[0m \u001b[0mkwds\u001b[0m\u001b[1;33m)\u001b[0m\u001b[1;33m\u001b[0m\u001b[1;33m\u001b[0m\u001b[0m\n\u001b[0m\u001b[0;32m   1868\u001b[0m         \u001b[1;32massert\u001b[0m \u001b[0mself\u001b[0m\u001b[1;33m.\u001b[0m\u001b[0mhandles\u001b[0m \u001b[1;32mis\u001b[0m \u001b[1;32mnot\u001b[0m \u001b[1;32mNone\u001b[0m\u001b[1;33m\u001b[0m\u001b[1;33m\u001b[0m\u001b[0m\n\u001b[0;32m   1869\u001b[0m         \u001b[1;32mfor\u001b[0m \u001b[0mkey\u001b[0m \u001b[1;32min\u001b[0m \u001b[1;33m(\u001b[0m\u001b[1;34m\"storage_options\"\u001b[0m\u001b[1;33m,\u001b[0m \u001b[1;34m\"encoding\"\u001b[0m\u001b[1;33m,\u001b[0m \u001b[1;34m\"memory_map\"\u001b[0m\u001b[1;33m,\u001b[0m \u001b[1;34m\"compression\"\u001b[0m\u001b[1;33m)\u001b[0m\u001b[1;33m:\u001b[0m\u001b[1;33m\u001b[0m\u001b[1;33m\u001b[0m\u001b[0m\n",
      "\u001b[1;32m~\\anaconda3\\lib\\site-packages\\pandas\\io\\parsers.py\u001b[0m in \u001b[0;36m_open_handles\u001b[1;34m(self, src, kwds)\u001b[0m\n\u001b[0;32m   1360\u001b[0m         \u001b[0mLet\u001b[0m \u001b[0mthe\u001b[0m \u001b[0mreaders\u001b[0m \u001b[0mopen\u001b[0m \u001b[0mIOHanldes\u001b[0m \u001b[0mafter\u001b[0m \u001b[0mthey\u001b[0m \u001b[0mare\u001b[0m \u001b[0mdone\u001b[0m \u001b[1;32mwith\u001b[0m \u001b[0mtheir\u001b[0m \u001b[0mpotential\u001b[0m \u001b[0mraises\u001b[0m\u001b[1;33m.\u001b[0m\u001b[1;33m\u001b[0m\u001b[1;33m\u001b[0m\u001b[0m\n\u001b[0;32m   1361\u001b[0m         \"\"\"\n\u001b[1;32m-> 1362\u001b[1;33m         self.handles = get_handle(\n\u001b[0m\u001b[0;32m   1363\u001b[0m             \u001b[0msrc\u001b[0m\u001b[1;33m,\u001b[0m\u001b[1;33m\u001b[0m\u001b[1;33m\u001b[0m\u001b[0m\n\u001b[0;32m   1364\u001b[0m             \u001b[1;34m\"r\"\u001b[0m\u001b[1;33m,\u001b[0m\u001b[1;33m\u001b[0m\u001b[1;33m\u001b[0m\u001b[0m\n",
      "\u001b[1;32m~\\anaconda3\\lib\\site-packages\\pandas\\io\\common.py\u001b[0m in \u001b[0;36mget_handle\u001b[1;34m(path_or_buf, mode, encoding, compression, memory_map, is_text, errors, storage_options)\u001b[0m\n\u001b[0;32m    640\u001b[0m                 \u001b[0merrors\u001b[0m \u001b[1;33m=\u001b[0m \u001b[1;34m\"replace\"\u001b[0m\u001b[1;33m\u001b[0m\u001b[1;33m\u001b[0m\u001b[0m\n\u001b[0;32m    641\u001b[0m             \u001b[1;31m# Encoding\u001b[0m\u001b[1;33m\u001b[0m\u001b[1;33m\u001b[0m\u001b[1;33m\u001b[0m\u001b[0m\n\u001b[1;32m--> 642\u001b[1;33m             handle = open(\n\u001b[0m\u001b[0;32m    643\u001b[0m                 \u001b[0mhandle\u001b[0m\u001b[1;33m,\u001b[0m\u001b[1;33m\u001b[0m\u001b[1;33m\u001b[0m\u001b[0m\n\u001b[0;32m    644\u001b[0m                 \u001b[0mioargs\u001b[0m\u001b[1;33m.\u001b[0m\u001b[0mmode\u001b[0m\u001b[1;33m,\u001b[0m\u001b[1;33m\u001b[0m\u001b[1;33m\u001b[0m\u001b[0m\n",
      "\u001b[1;31mFileNotFoundError\u001b[0m: [Errno 2] No such file or directory: 'Desktop\\\\Covid-19-Preprocessed-Dataset\\\\preprocessed\\\\covid_19_data_cleaned.csv'"
     ]
    }
   ],
   "source": [
    "df = pd.read_csv('Desktop\\Covid-19-Preprocessed-Dataset\\preprocessed\\covid_19_data_cleaned.csv', parse_dates=['Date'])\n",
    "country_daywise = pd.read_csv('Desktop\\Covid-19-Preprocessed-Dataset\\preprocessed\\country_daywise.csv', parse_dates=['Date'])\n",
    "countrywise = pd.read_csv('Desktop\\Covid-19-Preprocessed-Dataset\\preprocessed\\countrywise.csv')\n",
    "daywise = pd.read_csv('Desktop\\Covid-19-Preprocessed-Dataset\\preprocessed\\daywise.csv', parse_dates=['Date'])\n",
    "\n",
    "\n",
    "\n",
    "\n",
    "df['Province/State'] = df['Province/State'].fillna(\"\")\n",
    "df.head()\n"
   ]
  },
  {
   "cell_type": "code",
   "execution_count": null,
   "id": "7ccb92c4",
   "metadata": {},
   "outputs": [],
   "source": [
    "\n",
    "confirmed = df.groupby('Date').sum()['Confirmed'].reset_index()\n",
    "recovered = df.groupby('Date').sum()['Recovered'].reset_index()\n",
    "deaths = df.groupby('Date').sum()['Deaths'].reset_index()\n",
    "deaths.head()\n"
   ]
  },
  {
   "cell_type": "code",
   "execution_count": null,
   "id": "5a2ad99a",
   "metadata": {},
   "outputs": [],
   "source": [
    "df.isnull().sum()"
   ]
  },
  {
   "cell_type": "code",
   "execution_count": null,
   "id": "9deba886",
   "metadata": {},
   "outputs": [],
   "source": [
    "df.query('Country == \"US\"')"
   ]
  },
  {
   "cell_type": "code",
   "execution_count": null,
   "id": "1ab3207b",
   "metadata": {},
   "outputs": [],
   "source": [
    "confirmed.tail()"
   ]
  },
  {
   "cell_type": "code",
   "execution_count": null,
   "id": "2c897756",
   "metadata": {},
   "outputs": [],
   "source": [
    "recovered.tail()"
   ]
  },
  {
   "cell_type": "code",
   "execution_count": null,
   "id": "cd761d71",
   "metadata": {},
   "outputs": [],
   "source": [
    "fig = go.Figure()\n",
    "fig.add_trace(go.Scatter(x = confirmed['Date'], y=confirmed['Confirmed'], mode = 'lines+markers', name = 'Confirmed', line = dict(color = \"Orange\", width = 4)))\n",
    "fig.add_trace(go.Scatter(x = recovered['Date'], y=recovered['Recovered'], mode = 'lines+markers', name = 'Recovered', line = dict(color = \"Green\", width = 4)))\n",
    "fig.add_trace(go.Scatter(x = deaths['Date'], y=deaths['Deaths'], mode = 'lines+markers', name = 'Deaths', line = dict(color = \"Red\", width = 4)))\n",
    "fig.update_layout(title = 'Worldwide Covid-19 Cases', xaxis_tickfont_size = 14, yaxis=dict(title = 'No of cases'))\n",
    "fig.show()\n"
   ]
  },
  {
   "cell_type": "code",
   "execution_count": null,
   "id": "2b84f1d5",
   "metadata": {},
   "outputs": [],
   "source": [
    "df['Date'] = df['Date'].astype(str)\n",
    "\n",
    "\n",
    "\n",
    "\n",
    "\n",
    "df.info()\n",
    "\n"
   ]
  },
  {
   "cell_type": "code",
   "execution_count": null,
   "id": "166d729f",
   "metadata": {},
   "outputs": [],
   "source": [
    "fig = px.density_mapbox(df, lat = 'Lat', lon = 'Long', hover_name = 'Country', hover_data = ['Confirmed' ,'Recovered', 'Deaths'], animation_frame='Date', color_continuous_scale='Portland', radius = 7,zoom = 0,height = 700)\n",
    "fig.update_layout(title = 'Worldwide Covid-19 cases with timelapse')\n",
    "fig.update_layout(mapbox_style = 'open-street-map', mapbox_center_lon = 0)\n",
    "fig.show()"
   ]
  },
  {
   "cell_type": "code",
   "execution_count": null,
   "id": "01740699",
   "metadata": {},
   "outputs": [],
   "source": [
    "temp =df.groupby('Date')['Confirmed', 'Deaths', 'Recovered', 'Active'].sum().reset_index()\n",
    "temp = temp[temp['Date']==max(temp['Date'])].reset_index(drop = True)\n",
    "tm = temp.melt(id_vars = 'Date' , value_vars = ['Active', 'Deaths', 'Recovered'])\n",
    "fig = px.treemap(tm, path = ['variable'], values = 'value', height = 250, width = 800,color_discrete_sequence=[act,rec,dth])\n",
    "\n",
    "fig.data[0].textinfo = 'label+text+value'\n",
    "fig.show()\n"
   ]
  },
  {
   "cell_type": "code",
   "execution_count": null,
   "id": "39ef2f93",
   "metadata": {},
   "outputs": [],
   "source": [
    "temp = df.groupby('Date')['Recovered', 'Deaths', 'Active'].sum().reset_index()\n",
    "temp = temp.melt(id_vars = 'Date', value_vars = ['Recovered', 'Deaths','Active'], var_name = 'Case',value_name = 'Count')\n",
    "fig = px.area(temp, x = 'Date', y = 'Count', color = 'Case', height = 600, title = 'Cases over time',color_discrete_sequence=[rec, dth, act])\n",
    "fig.update_layout(xaxis_rangeslider_visible=True)\n",
    "fig.show()\n"
   ]
  },
  {
   "cell_type": "code",
   "execution_count": null,
   "id": "6a3a15b2",
   "metadata": {},
   "outputs": [],
   "source": [
    "m = folium.Map(location=[0, 0], tiles='cartodbpositron', min_zoom=1, max_zoom=4, zoom_start=1)\n",
    "for i in range(0, len(temp)):\n",
    "    \n",
    "    folium.Circle(\n",
    "    location=[full_latest.iloc[i]['Lat'], full_latest.iloc[i]['Long']],\n",
    "    color='crimson',\n",
    "    tooltip = 'Country : '+str(full_latest.iloc[i]['Country/Region'])+\n",
    "              'Province : '+str(full_latest.iloc[i]['Province/State'])+\n",
    "              'Confirmed : '+str(full_latest.iloc[i]['Confirmed'])+\n",
    "              'Deaths : '+str(full_latest.iloc[i]['Deaths'])+\n",
    "              'Recovered : '+str(full_latest.iloc[i]['Recovered']),\n",
    "    radius=int(full_latest.iloc[i]['Confirmed'])**1.1).add_to(m)"
   ]
  },
  {
   "cell_type": "markdown",
   "id": "09ad97df",
   "metadata": {},
   "source": [
    "# confirmed case"
   ]
  },
  {
   "cell_type": "code",
   "execution_count": null,
   "id": "d57107f9",
   "metadata": {},
   "outputs": [],
   "source": [
    "fig = px.choropleth(country_daywise,locations = 'Country',locationmode = 'country names',color = country_daywise['Confirmed'],\n",
    "                    hover_name = 'Country',animation_frame = country_daywise['Date'].dt.strftime('%Y-%m-%d'),\n",
    "                    title = 'Cases over time',color_continuous_scale = px.colors.sequential.Inferno)\n",
    "fig.update(layout_coloraxis_showscale = True)\n",
    "fig.show()"
   ]
  },
  {
   "cell_type": "markdown",
   "id": "ca638912",
   "metadata": {},
   "source": [
    "# Death and recover per 100 cases "
   ]
  },
  {
   "cell_type": "code",
   "execution_count": null,
   "id": "a67b0565",
   "metadata": {},
   "outputs": [],
   "source": [
    "fig_c = px.bar(daywise , x = 'Date' , y = 'Confirmed' , color_discrete_sequence=[act])\n",
    "fig_d = px.bar(daywise , x = 'Date' , y = 'Deaths' , color_discrete_sequence=['aqua'])\n",
    "\n",
    "fig = make_subplots(rows = 1,cols = 2, shared_xaxes=False, horizontal_spacing=0.1,\n",
    "                   subplot_titles=(\"Confirmed Cases\" , \"Death Cases\"))\n",
    "fig.add_trace(fig_c['data'][0], row = 1, col = 1)\n",
    "fig.add_trace(fig_c['data'][0], row = 1, col = 2)\n",
    "fig.update_layout(height = 400)\n",
    "fig.show()"
   ]
  },
  {
   "cell_type": "markdown",
   "id": "7b37099a",
   "metadata": {},
   "source": [
    "# confirmed and death cases with static colormap"
   ]
  },
  {
   "cell_type": "code",
   "execution_count": null,
   "id": "f8a6943c",
   "metadata": {},
   "outputs": [],
   "source": [
    "fig_c = px.choropleth(countrywise,locations='Country',locationmode='country names',\n",
    "                     color = np.log(countrywise['Confirmed']),hover_name='Country',\n",
    "                     hover_data = ['Confirmed'])\n",
    "temp = countrywise[countrywise['Deaths']>0]\n",
    "fig_d = px.choropleth(temp,locations='Country',locationmode='country names',\n",
    "                     color = np.log(temp['Deaths']),hover_name='Country',\n",
    "                     hover_data = ['Deaths'])\n",
    "fig = make_subplots(rows = 1,cols = 2,subplot_titles = ['Confirmed','Deaths'],\n",
    "                    specs =[[{'type':'choropleth'},{'type':'choropleth'}]])\n",
    "\n",
    "fig.add_trace(fig_c['data'][0],row = 1, col = 1)\n",
    "fig.add_trace(fig_d['data'][0],row = 1, col = 2)\n",
    "fig.show()\n",
    "                    \n",
    "                \n",
    "\n"
   ]
  },
  {
   "cell_type": "code",
   "execution_count": null,
   "id": "2cdaae43",
   "metadata": {},
   "outputs": [],
   "source": [
    "fig1 = px.line(daywise, x ='Date', y = 'Deaths / 100 Cases',color_discrete_sequence=[dth])\n",
    "fig2 = px.line(daywise, x ='Date', y = 'Recovered / 100 Cases',color_discrete_sequence=[rec])\n",
    "fig3 = px.line(daywise, x ='Date', y = 'Deaths / 100 Recovered',color_discrete_sequence=['aqua'])\n",
    "\n",
    "fig = make_subplots(rows = 1,cols = 3, shared_xaxes= False,\n",
    "                   subplot_titles=('Deaths / 100 Cases','Recovered / 100 Cases','Deaths / 100 Recovered'))\n",
    "fig.add_trace(fig1['data'][0],row = 1, col = 1)\n",
    "fig.add_trace(fig2['data'][0],row = 1, col = 2)\n",
    "fig.add_trace(fig3['data'][0],row = 1, col = 3)\n",
    "\n",
    "fig.update_layout(height = 400)\n",
    "fig.show()"
   ]
  },
  {
   "cell_type": "code",
   "execution_count": null,
   "id": "099beeea",
   "metadata": {
    "scrolled": true
   },
   "outputs": [],
   "source": [
    "daywise.columns"
   ]
  },
  {
   "cell_type": "markdown",
   "id": "78bc9d8c",
   "metadata": {},
   "source": [
    "# New cases and no of countries"
   ]
  },
  {
   "cell_type": "code",
   "execution_count": null,
   "id": "eec59a1d",
   "metadata": {},
   "outputs": [],
   "source": [
    "fig_c = px.bar(daywise, x= 'Date', y = 'Confirmed', color_discrete_sequence=[cnf])\n",
    "fig_d = px.bar(daywise, x= 'Date', y = 'No. of Countries', color_discrete_sequence=[dth])\n",
    "\n",
    "fig = make_subplots(rows = 1,cols = 3, shared_xaxes= False,horizontal_spacing=0.1,\n",
    "                    subplot_titles=(\"No, of New Cases per Day\",\"No. of Countries\"))\n",
    "fig.add_trace(fig_c['data'][0], row = 1,col = 1)\n",
    "fig.add_trace(fig_d['data'][0], row = 1,col = 2)\n",
    "\n",
    "fig.show()\n"
   ]
  },
  {
   "cell_type": "markdown",
   "id": "02d6ecf8",
   "metadata": {},
   "source": [
    "# Top 15 countries cases Analysis"
   ]
  },
  {
   "cell_type": "code",
   "execution_count": null,
   "id": "24652cf6",
   "metadata": {},
   "outputs": [],
   "source": [
    "top = 15\n",
    "fig_c = px.bar(countrywise.sort_values('Confirmed').tail(top),x='Confirmed',y='Country',\n",
    "              text = 'Confirmed',orientation='h',color_discrete_sequence=[cnf])\n",
    "fig_d = px.bar(countrywise.sort_values('Deaths').tail(top),x='Deaths',y='Country',\n",
    "              text = 'Deaths',orientation='h',color_discrete_sequence=[dth])\n",
    "\n",
    "fig_a = px.bar(countrywise.sort_values('Active').tail(top),x='Active',y='Country',\n",
    "              text = 'Active',orientation='h',color_discrete_sequence=[act])\n",
    "fig_r = px.bar(countrywise.sort_values('Recovered').tail(top),x='Recovered',y='Country',\n",
    "              text = 'Recovered',orientation='h',color_discrete_sequence=[rec])\n",
    "fig_dc = px.bar(countrywise.sort_values('Deaths / 100 Cases').tail(top),x='Deaths / 100 Cases',y='Country',\n",
    "              text = 'Deaths / 100 Cases',orientation='h',color_discrete_sequence=['#f84351'])\n",
    "fig_rc = px.bar(countrywise.sort_values('Recovered / 100 Cases').tail(top),x='Recovered / 100 Cases',y='Country',\n",
    "              text = 'Recovered / 100 Cases',orientation='h',color_discrete_sequence=['#a45398'])\n",
    "\n",
    "\n",
    "\n",
    "\n",
    "fig = make_subplots(rows = 5,cols = 2, shared_xaxes= False,horizontal_spacing=0.2,\n",
    "                    vertical_spacing=0.05,\n",
    "                    subplot_titles=('Confirmed Cases','Deaths Reported','Active Cases','Recovered Cases','Deaths / 100 Cases','Recovered / 100 Cases'))\n",
    "\n",
    "fig.add_trace(fig_c['data'][0], row = 1,col = 1)\n",
    "fig.add_trace(fig_d['data'][0], row = 1,col = 2)\n",
    "fig.add_trace(fig_a['data'][0], row = 2,col = 1)\n",
    "fig.add_trace(fig_r['data'][0], row = 2,col = 2)\n",
    "fig.add_trace(fig_dc['data'][0], row = 3,col = 1)\n",
    "fig.add_trace(fig_rc['data'][0], row = 3,col = 2)\n",
    "fig.update_layout(height=4000)\n",
    "\n",
    "fig.show()\n",
    "\n"
   ]
  },
  {
   "cell_type": "code",
   "execution_count": null,
   "id": "3fc7a9e2",
   "metadata": {},
   "outputs": [],
   "source": [
    "countrywise.columns"
   ]
  },
  {
   "cell_type": "code",
   "execution_count": null,
   "id": "697b6c75",
   "metadata": {},
   "outputs": [],
   "source": [
    "#conda install -c plotly plotly-orca==1.2.1 psutil requests"
   ]
  },
  {
   "cell_type": "code",
   "execution_count": null,
   "id": "72020c32",
   "metadata": {},
   "outputs": [],
   "source": [
    "if not os.path.exists('images'):\n",
    "    os.mkdir('images')"
   ]
  },
  {
   "cell_type": "code",
   "execution_count": null,
   "id": "0fdd14ad",
   "metadata": {},
   "outputs": [],
   "source": [
    "fig.write_image('images/fig.png')"
   ]
  },
  {
   "cell_type": "markdown",
   "id": "acc1fcee",
   "metadata": {},
   "source": [
    "# Scatter plot for deaths Vs Confirmed Cases"
   ]
  },
  {
   "cell_type": "code",
   "execution_count": null,
   "id": "130d8cc2",
   "metadata": {
    "scrolled": true
   },
   "outputs": [],
   "source": [
    "top = 15\n",
    "fig = px.scatter(countrywise.sort_values('Deaths',ascending = False).head(top),\n",
    "                x = 'Confirmed', y = 'Deaths', color = 'Country', size = 'Confirmed',height = 700,\n",
    "                text = 'Country',log_x = True, log_y = True , title='Deaths vs Confirmed Cases(Cases are on log 10 scale)')\n",
    "fig.update_traces(textposition = 'top center')\n",
    "fig.update_layout(showlegend = False)\n",
    "fig.update_layout(xaxis_rangeslider_visible = True)\n",
    "fig.show()"
   ]
  },
  {
   "cell_type": "code",
   "execution_count": null,
   "id": "39cca713",
   "metadata": {},
   "outputs": [],
   "source": [
    "from IPython.display import display\n",
    "from ipywidgets import *\n",
    "button = widgets.Button(description=\"Click Me\")\n",
    "display(button)\n",
    "def on_button_clicked(a):\n",
    "    display(HTML(\"\"\"<a href=\"http://localhost:8888/view/images/fig.png\">CLICK ME</a>\"\"\"))\n",
    "button.on_click(on_button_clicked)"
   ]
  },
  {
   "cell_type": "code",
   "execution_count": null,
   "id": "e63c3084",
   "metadata": {},
   "outputs": [],
   "source": []
  },
  {
   "cell_type": "code",
   "execution_count": null,
   "id": "b8c51e69",
   "metadata": {},
   "outputs": [],
   "source": []
  },
  {
   "cell_type": "code",
   "execution_count": null,
   "id": "e2242c7c",
   "metadata": {},
   "outputs": [],
   "source": []
  },
  {
   "cell_type": "code",
   "execution_count": null,
   "id": "360c158f",
   "metadata": {},
   "outputs": [],
   "source": []
  }
 ],
 "metadata": {
  "kernelspec": {
   "display_name": "Python 3",
   "language": "python",
   "name": "python3"
  },
  "language_info": {
   "codemirror_mode": {
    "name": "ipython",
    "version": 3
   },
   "file_extension": ".py",
   "mimetype": "text/x-python",
   "name": "python",
   "nbconvert_exporter": "python",
   "pygments_lexer": "ipython3",
   "version": "3.8.8"
  }
 },
 "nbformat": 4,
 "nbformat_minor": 5
}
